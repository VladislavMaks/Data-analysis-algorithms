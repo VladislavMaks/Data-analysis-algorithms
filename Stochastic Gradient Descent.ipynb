{
 "cells": [
  {
   "cell_type": "code",
   "execution_count": 1,
   "id": "56976549",
   "metadata": {},
   "outputs": [],
   "source": [
    "import numpy as np\n",
    "import matplotlib.pyplot as plt"
   ]
  },
  {
   "cell_type": "markdown",
   "id": "f3c6a5f8",
   "metadata": {},
   "source": [
    "## 1\n",
    "Сгенерировать датасет при помощи sklearn.datasets.make_regression и обучить линейную модель при помощи градиентного спуска и стохастического градиентного спуска. Построить графики среднеквадратичной ошибки от числа итераций для обоих методов на одном рисунке, сделать выводы о разнице скорости сходимости каждого из методов."
   ]
  },
  {
   "cell_type": "code",
   "execution_count": 2,
   "id": "025f51bf",
   "metadata": {},
   "outputs": [],
   "source": [
    "from sklearn import datasets\n",
    "\n",
    "X_, y_, coef = datasets.make_regression(n_samples=1000, \n",
    "                                      n_features=2, \n",
    "                                      n_informative=2, \n",
    "                                      n_targets=1,\n",
    "                                      noise=5, \n",
    "                                      coef=True, \n",
    "                                      random_state=42)"
   ]
  },
  {
   "cell_type": "code",
   "execution_count": 3,
   "id": "5f173255",
   "metadata": {},
   "outputs": [],
   "source": [
    "def calc_mse(y, y_pred):\n",
    "    err = np.mean((y - y_pred)**2)\n",
    "    return err"
   ]
  },
  {
   "cell_type": "code",
   "execution_count": 4,
   "id": "e389a09d",
   "metadata": {},
   "outputs": [],
   "source": [
    "X_ = np.c_[ np.ones(1000) , X_]  # Добавим столбик с единицами"
   ]
  },
  {
   "cell_type": "code",
   "execution_count": 5,
   "id": "4c19e2da",
   "metadata": {},
   "outputs": [],
   "source": [
    "w = np.linalg.inv(X_.T @ X_) @ X_.T @ y_"
   ]
  },
  {
   "cell_type": "code",
   "execution_count": 6,
   "id": "7156da99",
   "metadata": {},
   "outputs": [
    {
     "data": {
      "text/plain": [
       "24.213592803209053"
      ]
     },
     "execution_count": 6,
     "metadata": {},
     "output_type": "execute_result"
    }
   ],
   "source": [
    "calc_mse(y_, np.dot(X_, w)) # Эталонное решение"
   ]
  },
  {
   "cell_type": "code",
   "execution_count": 7,
   "id": "2984f9e4",
   "metadata": {},
   "outputs": [],
   "source": [
    "def gradient_descent(X, y, iterations, eta = 1e-2):  \n",
    "    \n",
    "    np.random.seed(42)\n",
    "    w = np.random.randn(X.shape[1])\n",
    "    n = X.shape[0]\n",
    "\n",
    "\n",
    "    for i in range(iterations + 1):\n",
    "        y_pred = np.dot(X, w)\n",
    "        err = calc_mse(y, y_pred)\n",
    "        w -= eta * (1/n * 2 * np.dot(X.T, (np.dot(X, w) - y)))\n",
    "         \n",
    "    return err"
   ]
  },
  {
   "cell_type": "code",
   "execution_count": 8,
   "id": "4f0c480a",
   "metadata": {},
   "outputs": [],
   "source": [
    "def eval_SGD(X, y, iterations, eta=1e-4):\n",
    "    \n",
    "    np.random.seed(42)\n",
    "    w = np.random.randn(X.shape[1]) # начальное приближение весов\n",
    "    n = X.shape[0] # число наблюдений\n",
    "    \n",
    "    for i in range(1, iterations + 1):\n",
    "        err = calc_mse(y, np.dot(X, w))\n",
    "        # генерируем случайный индекс объекта выборки\n",
    "        ind = np.random.randint(n)\n",
    "        y_pred = np.dot(X[ind], w)\n",
    "        w -= eta * (2 * np.dot(X[ind].T, (y_pred - y[ind])))\n",
    "#         if i % (iterations / 10) == 0:\n",
    "#             print(f'{i}: weights={w}, MSE={err:.3f}')\n",
    "    return err"
   ]
  },
  {
   "cell_type": "code",
   "execution_count": 9,
   "id": "d3696bd3",
   "metadata": {},
   "outputs": [],
   "source": [
    "def eval_mbGD(X, y, iterations, batch=100, eta=1e-4):\n",
    "    \n",
    "    np.random.seed(42)\n",
    "    w = np.random.randn(X.shape[1]) # начальное приближение весов\n",
    "    n = X.shape[0] # число наблюдений\n",
    "    n_batch = n // batch # число батчей\n",
    "    \n",
    "    if n % batch != 0:\n",
    "        n_batch += 1\n",
    "#     print('Количество батчей - ', n_batch)\n",
    "    for i in range(1, iterations + 1):\n",
    "        err = calc_mse(y, np.dot(X, w))\n",
    "        for b in range(n_batch):\n",
    "            start_ = batch * b\n",
    "            end_ = batch * (b + 1)\n",
    "            X_batch = X[start_ : end_, :]\n",
    "            y_batch = y[start_ : end_]\n",
    "            y_pred = np.dot(X_batch, w)\n",
    "            w -= eta * (2/len(y_batch) * np.dot(X_batch.T, (y_pred - y_batch)))\n",
    "#         if i % (iterations / 10) == 0:\n",
    "#             print(f'{i}: weights={w}, MSE={err:.3f}')\n",
    "    return err"
   ]
  },
  {
   "cell_type": "code",
   "execution_count": 10,
   "id": "92c46ba3",
   "metadata": {},
   "outputs": [],
   "source": [
    "gd_mse_list = []         # Список из ошибок MSE для град. спуска\n",
    "gd_iterations_list = []  # Список количества итераций для град. спуска\n",
    "\n",
    "for i in range(1, 2001, 200):   # Задаем количество итераций\n",
    "    gd_iterations_list.append(i)\n",
    "    gd_mse_list.append(gradient_descent(X_, y_, i))\n",
    "    \n",
    "eval_SGD_mse_list = []\n",
    "eval_SGD_iterations_list = []\n",
    "\n",
    "for i in range(1, 3100, 200):\n",
    "    eval_SGD_iterations_list.append(i)\n",
    "    eval_SGD_mse_list.append(eval_SGD(X_, y_, i))\n",
    "    \n",
    "eval_mbGD_mse_list = []\n",
    "eval_mbGD_iterations_list = []\n",
    "\n",
    "for i in range(1, 2200, 300):\n",
    "    eval_mbGD_iterations_list.append(i)\n",
    "    eval_mbGD_mse_list.append(eval_mbGD(X_, y_, i))"
   ]
  },
  {
   "cell_type": "code",
   "execution_count": 11,
   "id": "a394a0a8",
   "metadata": {},
   "outputs": [
    {
     "data": {
      "image/png": "[encoded data removed]",
      "text/plain": [
       "<Figure size 720x360 with 1 Axes>"
      ]
     },
     "metadata": {
      "needs_background": "light"
     },
     "output_type": "display_data"
    }
   ],
   "source": [
    "plt.figure(figsize=(10, 5))\n",
    "plt.xscale('log')\n",
    "\n",
    "plt.plot(gd_mse_list, gd_iterations_list, 'go-', label=r'$GD$')\n",
    "plt.plot(eval_SGD_mse_list, eval_SGD_iterations_list, 'ro-', label=r'$ESGD$')\n",
    "plt.plot(eval_mbGD_mse_list, eval_mbGD_iterations_list, 'bo-', label=r'$EmbSGD$')\n",
    "plt.xlabel('MSE')\n",
    "plt.ylabel('Количество итераций')\n",
    "plt.grid()\n",
    "plt.legend();"
   ]
  },
  {
   "cell_type": "markdown",
   "id": "b6159832",
   "metadata": {},
   "source": [
    "Исходя из графика видно, что самым оптимальным способом является обычный градиентный спуск, ему нужно наименьшее количество итераций для минимизации MSE. Следующий метод - метод mini-batch, однако количество итераций в нем больше, чем в остальных методах, так как внутри итерации есть еще итерации по каждому батчу. Больше всего итераций нужно методу стохастического градиентного спуска "
   ]
  },
  {
   "cell_type": "markdown",
   "id": "3b837990",
   "metadata": {},
   "source": [
    "## 2\n",
    "[*] Добавить в алгоритм градиентного спуска L1 регуляризацию. Сравнить влияние коэффициентов регуляризации L1 и L2 на величину весов для примера из урока (лучше графически)."
   ]
  },
  {
   "cell_type": "markdown",
   "id": "815d3e01",
   "metadata": {},
   "source": [
    "$$\\sum^{n}_{i=1}L_i(\\vec{x}_i,{y_i},\\vec{w}) + \\lambda \\sum^{m}_{j=1}|w_{j}| \\rightarrow \\underset{w}{\\text{min}}$$"
   ]
  },
  {
   "cell_type": "markdown",
   "id": "9ce79432",
   "metadata": {},
   "source": [
    "$$\\sum^{n}_{i=1}L_i(\\vec{x}_i,y_i,\\vec{w}) + \\lambda \\sum^{m}_{j=1}w_{j}^{2} \\rightarrow \\underset{w}{\\text{min}}$$"
   ]
  },
  {
   "cell_type": "code",
   "execution_count": 12,
   "id": "cfbd390a",
   "metadata": {},
   "outputs": [],
   "source": [
    "def eval_model_reg1(X, y, iterations, eta=1e-4, lambda_=1e-8, verbose=False):\n",
    "    np.random.seed(42)\n",
    "    w = np.random.randn(X.shape[1])\n",
    "    n = X.shape[0]\n",
    "    for i in range(1, iterations + 1):\n",
    "        y_pred = np.dot(X, w)\n",
    "        err = calc_mse(y, y_pred)\n",
    "        w -= eta * (1/n * 2 * np.dot(X.T, (y_pred - y)) + lambda_ * np.sign(w))   # Отличие от L2 как в уроке тут \n",
    "                                                                                  # (...+ lambda_ * np.sign(w))\n",
    "    return w"
   ]
  },
  {
   "cell_type": "code",
   "execution_count": 13,
   "id": "70c72951",
   "metadata": {},
   "outputs": [],
   "source": [
    "def eval_model_reg2(X, y, iterations, eta=1e-4, lambda_=1e-8, verbose=False):\n",
    "    np.random.seed(42)\n",
    "    w = np.random.randn(X.shape[1])\n",
    "    n = X.shape[0]\n",
    "    for i in range(1, iterations + 1):\n",
    "        y_pred = np.dot(X, w)\n",
    "        err = calc_mse(y, y_pred)\n",
    "        w -= eta * (1/n * 2 * np.dot(X.T, (y_pred - y)) + 2 * lambda_ * w)\n",
    "\n",
    "    return w"
   ]
  },
  {
   "cell_type": "code",
   "execution_count": 14,
   "id": "1792b68e",
   "metadata": {},
   "outputs": [],
   "source": [
    "r1_w_list = []\n",
    "r1_lambda_list = []\n",
    "\n",
    "for l in np.logspace(start=-4, stop=1, num=20):\n",
    "    r1_lambda_list.append(l)\n",
    "    r1_w_list.append(eval_model_reg1(X_, y_, iterations=1000, eta=0.003, lambda_=l, verbose=True))\n",
    "\n",
    "r1lambda = np.array(r1_lambda_list)    \n",
    "r1weights = np.array(r1_w_list)"
   ]
  },
  {
   "cell_type": "code",
   "execution_count": 15,
   "id": "484b453a",
   "metadata": {},
   "outputs": [],
   "source": [
    "r2_w_list = []\n",
    "r2_lambda_list = []\n",
    "\n",
    "for l in np.logspace(start=-4, stop=1, num=20):\n",
    "    r2_lambda_list.append(l)\n",
    "    r2_w_list.append(eval_model_reg2(X_, y_, iterations=1000, eta=0.003, lambda_=l, verbose=True))\n",
    "\n",
    "r2lambda = np.array(r2_lambda_list)    \n",
    "r2weights = np.array(r2_w_list)"
   ]
  },
  {
   "cell_type": "code",
   "execution_count": 16,
   "id": "b04ac6d7",
   "metadata": {},
   "outputs": [
    {
     "data": {
      "image/png": "[encoded data removed]",
      "text/plain": [
       "<Figure size 576x360 with 1 Axes>"
      ]
     },
     "metadata": {
      "needs_background": "light"
     },
     "output_type": "display_data"
    },
    {
     "data": {
      "image/png": "[encoded data removed]",
      "text/plain": [
       "<Figure size 576x360 with 1 Axes>"
      ]
     },
     "metadata": {
      "needs_background": "light"
     },
     "output_type": "display_data"
    }
   ],
   "source": [
    "plt.figure(figsize=(8, 5))\n",
    "plt.xscale('log')\n",
    "plt.plot(r1lambda, r1weights[:, 0], 'mo-', label=r'$w_0$')\n",
    "plt.plot(r1lambda, r1weights[:, 1], 'go-', label=r'$w_1$')\n",
    "plt.plot(r1lambda, r1weights[:, 2], 'ro-', label=r'$w_2$')\n",
    "plt.xlabel('Коэффициент L1 регуляризации')\n",
    "plt.ylabel('Веса')\n",
    "plt.grid()\n",
    "plt.legend();\n",
    "\n",
    "plt.figure(figsize=(8, 5))\n",
    "plt.xscale('log')\n",
    "plt.plot(r2lambda, r2weights[:, 0], 'mo-', label=r'$w_0$')\n",
    "plt.plot(r2lambda, r2weights[:, 1], 'go-', label=r'$w_1$')\n",
    "plt.plot(r2lambda, r2weights[:, 2], 'ro-', label=r'$w_2$')\n",
    "plt.xlabel('Коэффициент L2 регуляризации')\n",
    "plt.ylabel('Веса')\n",
    "plt.grid()\n",
    "plt.legend();"
   ]
  }
 ],
 "metadata": {
  "kernelspec": {
   "display_name": "Python 3",
   "language": "python",
   "name": "python3"
  },
  "language_info": {
   "codemirror_mode": {
    "name": "ipython",
    "version": 3
   },
   "file_extension": ".py",
   "mimetype": "text/x-python",
   "name": "python",
   "nbconvert_exporter": "python",
   "pygments_lexer": "ipython3",
   "version": "3.8.8"
  }
 },
 "nbformat": 4,
 "nbformat_minor": 5
}
