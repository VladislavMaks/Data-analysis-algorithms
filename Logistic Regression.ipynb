{
 "cells": [
  {
   "cell_type": "code",
   "execution_count": 1,
   "id": "85896088",
   "metadata": {},
   "outputs": [],
   "source": [
    "import numpy as np\n",
    "import matplotlib.pyplot as plt"
   ]
  },
  {
   "cell_type": "markdown",
   "id": "3f6f9aef",
   "metadata": {},
   "source": [
    "## 1\n",
    "Измените функцию calc_logloss так, чтобы нули по возможности не попадали в np.log (как вариант - использовать np.clip или np.where)."
   ]
  },
  {
   "cell_type": "markdown",
   "id": "deb2c8cc",
   "metadata": {},
   "source": [
    "Если я правильно понял задание, p не может равняться 0 и 1, т.к log(0) не существует и нам нужно заменить p на максимально приближенное к 0 или 1 число"
   ]
  },
  {
   "cell_type": "code",
   "execution_count": 2,
   "id": "f0833605",
   "metadata": {},
   "outputs": [],
   "source": [
    "def calc_logloss(y, p):   \n",
    "    p = np.clip(p, 1e-4, 0.9999)\n",
    "    err = np.mean(- y * np.log(p) - (1.0 - y) * np.log(1.0 - p))\n",
    "    return err"
   ]
  },
  {
   "cell_type": "code",
   "execution_count": 3,
   "id": "e2b7abef",
   "metadata": {},
   "outputs": [
    {
     "data": {
      "text/plain": [
       "9.210340371976294"
      ]
     },
     "execution_count": 3,
     "metadata": {},
     "output_type": "execute_result"
    }
   ],
   "source": [
    "# Пример применения\n",
    "y = 0\n",
    "p = 1 \n",
    "calc_logloss(y, p)"
   ]
  },
  {
   "cell_type": "code",
   "execution_count": 4,
   "id": "bad14fab",
   "metadata": {},
   "outputs": [
    {
     "data": {
      "text/plain": [
       "0.00010000500033334732"
      ]
     },
     "execution_count": 4,
     "metadata": {},
     "output_type": "execute_result"
    }
   ],
   "source": [
    "y = 0\n",
    "p = 0 \n",
    "calc_logloss(y, p)"
   ]
  },
  {
   "cell_type": "markdown",
   "id": "7dc38d51",
   "metadata": {},
   "source": [
    "## 2\n",
    "На данных из урока изучите влияние гиперпараметров на ошибку алгоритма."
   ]
  },
  {
   "cell_type": "code",
   "execution_count": 5,
   "id": "94fd960c",
   "metadata": {},
   "outputs": [],
   "source": [
    "X = np.array([[1, 1, 1, 1, 1, 1, 1, 1, 1, 1],\n",
    "              [1, 1, 2, 1, 3, 0, 5, 10, 1, 2],  # стаж репетитора\n",
    "              [500, 700, 750, 600, 1450,        # средняя стоимость занятия\n",
    "               800, 1500, 2000, 450, 1000],\n",
    "              [21, 25, 27, 20, 25, 18, 35, 60, 20, 30]],  # возраст репетитора\n",
    "              dtype = np.float64).T \n",
    "\n",
    "y = np.array([0, 0, 1, 0, 1, 0, 1, 0, 1, 1]) # поступил или нет ученик на специальность Математика"
   ]
  },
  {
   "cell_type": "code",
   "execution_count": 6,
   "id": "0966dd1e",
   "metadata": {},
   "outputs": [
    {
     "data": {
      "text/plain": [
       "array([[ 1.        , -0.57142857, -0.97958969, -0.60595294],\n",
       "       [ 1.        , -0.57142857, -0.56713087, -0.264571  ],\n",
       "       [ 1.        , -0.21428571, -0.46401617, -0.09388003],\n",
       "       [ 1.        , -0.57142857, -0.77336028, -0.69129842],\n",
       "       [ 1.        ,  0.14285714,  0.97958969, -0.264571  ],\n",
       "       [ 1.        , -0.92857143, -0.36090146, -0.86198939],\n",
       "       [ 1.        ,  0.85714286,  1.08270439,  0.58888384],\n",
       "       [ 1.        ,  2.64285714,  2.11385144,  2.72252095],\n",
       "       [ 1.        , -0.57142857, -1.08270439, -0.69129842],\n",
       "       [ 1.        , -0.21428571,  0.05155735,  0.16215642]])"
      ]
     },
     "execution_count": 6,
     "metadata": {},
     "output_type": "execute_result"
    }
   ],
   "source": [
    "def standardization(X):\n",
    "    S = (X - X.mean(axis=0)) / X.std(axis=0)\n",
    "    return S\n",
    "\n",
    "X_st = X.copy()\n",
    "X_st[:, 1:] = standardization(X[:, 1:])\n",
    "X_st"
   ]
  },
  {
   "cell_type": "code",
   "execution_count": 7,
   "id": "71340b8e",
   "metadata": {},
   "outputs": [],
   "source": [
    "# логистическая регрессия\n",
    "def eval_LR_model(X, y, iterations, eta=1e-4):\n",
    "    np.random.seed(42)\n",
    "    w = np.random.randn(X.shape[1])\n",
    "    n = X.shape[0]\n",
    "    for i in range(1, iterations + 1):\n",
    "        z = np.dot(X, w) # log(p/(1-p))\n",
    "        pred = sigmoid(z) # p [0, 1]\n",
    "        err = calc_logloss(y, pred)\n",
    "        w -= eta * (1/n * np.dot((pred - y), X))\n",
    "#         if i % (iterations / 10) == 0:\n",
    "#             print(i, w, err)\n",
    "    return w, err"
   ]
  },
  {
   "cell_type": "code",
   "execution_count": 91,
   "id": "9a88bff5",
   "metadata": {},
   "outputs": [],
   "source": [
    "errors_list = []       \n",
    "iterations = 2001\n",
    "eta = [i for i in np.logspace(-4, -2, 5)]\n",
    "\n",
    "for i in eta:\n",
    "    err_list = [] \n",
    "    for iteration in range(1, iterations):     # Из-за этой строки код выполнялся очень долго, нужно было поставить шаг\n",
    "        err_list.append(eval_LR_model(X_st, y, iteration, i)[1])\n",
    "    errors_list.append(err_list)"
   ]
  },
  {
   "cell_type": "code",
   "execution_count": 104,
   "id": "cc650f5b",
   "metadata": {},
   "outputs": [
    {
     "data": {
      "text/plain": [
       "<matplotlib.legend.Legend at 0x19b85a4a280>"
      ]
     },
     "execution_count": 104,
     "metadata": {},
     "output_type": "execute_result"
    },
    {
     "data": {
      "image/png": "[encoded data removed]",
      "text/plain": [
       "<Figure size 720x504 with 1 Axes>"
      ]
     },
     "metadata": {
      "needs_background": "light"
     },
     "output_type": "display_data"
    }
   ],
   "source": [
    "plt.figure(figsize = (10, 7))\n",
    "\n",
    "for i in range(len(eta)):\n",
    "    plt.plot(range(iterations-1), errors_list[i], label='{:.2e}'.format(eta[i]))\n",
    "plt.xlabel('Itarations')\n",
    "plt.ylabel('Logloss')\n",
    "plt.grid()\n",
    "plt.legend(title=r'$eta:$')"
   ]
  },
  {
   "cell_type": "markdown",
   "id": "9a15988e",
   "metadata": {},
   "source": [
    "Как и в исследовании линейной регрессии мы видим уменьшение ошибки с увеличением количества итераций. Значения скорости обучения также сильно влияют на конечный результат. См. рис. выше"
   ]
  },
  {
   "cell_type": "markdown",
   "id": "3802445d",
   "metadata": {},
   "source": [
    "## 3\n",
    "Создайте функцию calc_pred_proba, возвращающую предсказанную вероятность класса \"1\". На вход функции подаются значения признаков Х и веса, которые уже посчитаны функцией eval_LR_model."
   ]
  },
  {
   "cell_type": "code",
   "execution_count": 8,
   "id": "bb297d5c",
   "metadata": {},
   "outputs": [],
   "source": [
    "def sigmoid(z):\n",
    "    return 1 / (1 + np.exp(-z))"
   ]
  },
  {
   "cell_type": "code",
   "execution_count": 9,
   "id": "e5c948d9",
   "metadata": {},
   "outputs": [],
   "source": [
    "def calc_pred_proba(X, w):\n",
    "    return sigmoid(np.dot(X_st, w))"
   ]
  },
  {
   "cell_type": "code",
   "execution_count": 10,
   "id": "348e2458",
   "metadata": {},
   "outputs": [
    {
     "name": "stdout",
     "output_type": "stream",
     "text": [
      "prob = [0.37 0.43 0.39 0.45 0.82 0.66 0.65 0.37 0.35 0.51]\n",
      "true = [0 0 1 0 1 0 1 0 1 1]\n"
     ]
    }
   ],
   "source": [
    "pred = calc_pred_proba(X_st, eval_LR_model(X_st, y, 1000, 1e-1)[0])\n",
    "print('prob =', pred.round(2))\n",
    "print('true =', y)"
   ]
  },
  {
   "cell_type": "markdown",
   "id": "c989432b",
   "metadata": {},
   "source": [
    "## 4\n",
    "Создайте функцию calc_pred, возвращающую предсказанные классы (0 или 1). На вход функции подаются значения признаков Х и веса, которые уже посчитаны функцией eval_LR_model, а также порог вероятности."
   ]
  },
  {
   "cell_type": "code",
   "execution_count": 15,
   "id": "7bc21cb8",
   "metadata": {},
   "outputs": [],
   "source": [
    "def calc_pred(X, w, prob_rate):\n",
    "    pred = calc_pred_proba(X, w)\n",
    "    return np.where(pred > prob_rate, 1, 0)"
   ]
  },
  {
   "cell_type": "code",
   "execution_count": 16,
   "id": "0c51bb96",
   "metadata": {},
   "outputs": [
    {
     "name": "stdout",
     "output_type": "stream",
     "text": [
      "Пред: [0 0 0 0 1 1 1 0 0 1]\n",
      "Реал: [0 0 1 0 1 0 1 0 1 1]\n"
     ]
    }
   ],
   "source": [
    "w = eval_LR_model(X_st, y, 1000, 1e-1)[0]\n",
    "print(f'Пред: {calc_pred(X_st, w, 0.5)}')\n",
    "print(f'Реал: {y}')"
   ]
  },
  {
   "cell_type": "markdown",
   "id": "5cb87937",
   "metadata": {},
   "source": [
    "## 5\n",
    "(*) Напишите функции для расчета accuracy, матрицы ошибок, precision и recall, а также F1-score."
   ]
  },
  {
   "cell_type": "code",
   "execution_count": 17,
   "id": "3fcbf69b",
   "metadata": {},
   "outputs": [],
   "source": [
    "predictions = calc_pred(X_st, w, 0.5)"
   ]
  },
  {
   "cell_type": "code",
   "execution_count": 24,
   "id": "8b44cf2f",
   "metadata": {},
   "outputs": [],
   "source": [
    "TP = 0\n",
    "FP = 0\n",
    "TN = 0\n",
    "FN = 0\n",
    "\n",
    "for pos, i in enumerate(predictions):\n",
    "    if i == y[pos] and i == 1:\n",
    "        TP += 1\n",
    "    elif i == y[pos] and i == 0:\n",
    "        TN += 1\n",
    "    elif i != y[pos] and i == 1:\n",
    "        FP += 1\n",
    "    else: FN += 1\n",
    "    \n",
    "\n",
    "def accuracy(TP, TN, FP, FN):\n",
    "    return (TP + TN) / (TP + FP + TN + FN)\n",
    "\n",
    "\n",
    "def mis_matrix(TP, TN, FP, FN):\n",
    "    return np.array([[TP, FP], [FN, TN]])\n",
    "                   \n",
    "\n",
    "\n",
    "def prec_recall(TP, TN, FP, FN):\n",
    "    prec = TP / (TP + FP)\n",
    "    recall = TP / (TP + FN)\n",
    "    return prec, recall\n",
    "\n",
    "\n",
    "def f1_score(TP, TN, FP, FN):\n",
    "    prec = prec_recall(TP, TN, FP, FN)[0]\n",
    "    recall = prec_recall(TP, TN, FP, FN)[1]\n",
    "    return 2 * (prec * recall) / (prec + recall)"
   ]
  },
  {
   "cell_type": "code",
   "execution_count": 22,
   "id": "1baad4ca",
   "metadata": {},
   "outputs": [
    {
     "data": {
      "text/plain": [
       "(3, 4, 1, 2)"
      ]
     },
     "execution_count": 22,
     "metadata": {},
     "output_type": "execute_result"
    }
   ],
   "source": [
    "TP, TN, FP, FN"
   ]
  },
  {
   "cell_type": "code",
   "execution_count": 21,
   "id": "0badaabc",
   "metadata": {},
   "outputs": [
    {
     "data": {
      "text/plain": [
       "0.7"
      ]
     },
     "execution_count": 21,
     "metadata": {},
     "output_type": "execute_result"
    }
   ],
   "source": [
    "accuracy(TP, TN, FP, FN)"
   ]
  },
  {
   "cell_type": "code",
   "execution_count": 25,
   "id": "292b781c",
   "metadata": {},
   "outputs": [
    {
     "data": {
      "text/plain": [
       "array([[3, 1],\n",
       "       [2, 4]])"
      ]
     },
     "execution_count": 25,
     "metadata": {},
     "output_type": "execute_result"
    }
   ],
   "source": [
    "mis_matrix(TP, TN, FP, FN)"
   ]
  },
  {
   "cell_type": "code",
   "execution_count": 26,
   "id": "9d6df062",
   "metadata": {},
   "outputs": [
    {
     "data": {
      "text/plain": [
       "(0.75, 0.6)"
      ]
     },
     "execution_count": 26,
     "metadata": {},
     "output_type": "execute_result"
    }
   ],
   "source": [
    "prec_recall(TP, TN, FP, FN)"
   ]
  },
  {
   "cell_type": "code",
   "execution_count": 27,
   "id": "cd3489fc",
   "metadata": {},
   "outputs": [
    {
     "data": {
      "text/plain": [
       "0.6666666666666665"
      ]
     },
     "execution_count": 27,
     "metadata": {},
     "output_type": "execute_result"
    }
   ],
   "source": [
    "f1_score(TP, TN, FP, FN)"
   ]
  }
 ],
 "metadata": {
  "kernelspec": {
   "display_name": "Python 3 (ipykernel)",
   "language": "python",
   "name": "python3"
  },
  "language_info": {
   "codemirror_mode": {
    "name": "ipython",
    "version": 3
   },
   "file_extension": ".py",
   "mimetype": "text/x-python",
   "name": "python",
   "nbconvert_exporter": "python",
   "pygments_lexer": "ipython3",
   "version": "3.8.8"
  }
 },
 "nbformat": 4,
 "nbformat_minor": 5
}
